{
 "cells": [
  {
   "attachments": {},
   "cell_type": "markdown",
   "metadata": {},
   "source": [
    "The genetic algorithm is a stochastic global optimization algorithm.\n",
    "\n",
    "It may be one of the most popular and widely known biologically inspired algorithms, along with artificial neural networks.\n",
    "\n",
    "The algorithm is a type of evolutionary algorithm and performs an optimization procedure inspired by the biological theory of evolution by means of natural selection with a binary representation and simple operators based on genetic recombination and genetic mutations.\n",
    "\n",
    "In this tutorial, you will discover the genetic algorithm optimization algorithm.\n",
    "\n",
    "After completing this tutorial, you will know:\n",
    "\n",
    "* Genetic algorithm is a stochastic optimization algorithm inspired by evolution.\n",
    "* How to implement the genetic algorithm from scratch in Python.\n",
    "* How to apply the genetic algorithm to a continuous objective function."
   ]
  },
  {
   "attachments": {},
   "cell_type": "markdown",
   "metadata": {},
   "source": [
    "## Tutorial Overview\n",
    "This tutorial is divided into four parts; they are:\n",
    "\n",
    "* Genetic Algorithm\n",
    "* Genetic Algorithm From Scratch\n",
    "* Genetic Algorithm for OneMax\n",
    "* Genetic Algorithm for Continuous Function Optimization"
   ]
  },
  {
   "attachments": {},
   "cell_type": "markdown",
   "metadata": {},
   "source": [
    "## Genetic Algorithm\n",
    "The Genetic Algorithm is a stochastic global search optimization algorithm.\n",
    "\n",
    "It is inspired by the biological theory of evolution by means of natural selection. Specifically, the new synthesis that combines an understanding of genetics with the theory.\n",
    "\n",
    "\n",
    "> Genetic algorithms (algorithm 9.4) borrow inspiration from biological evolution, where fitter individuals are more likely to pass on their genes to the next generation.\n",
    "> — Page 148, Algorithms for Optimization, 2019.\n",
    "\n",
    "The algorithm uses analogs of a genetic representation (bitstrings), fitness (function evaluations), genetic recombination (crossover of bitstrings), and mutation (flipping bits).\n",
    "\n",
    "The algorithm works by first creating a population of a fixed size of random bitstrings. The main loop of the algorithm is repeated for a fixed number of iterations or until no further improvement is seen in the best solution over a given number of iterations.\n",
    "\n",
    "One iteration of the algorithm is like an evolutionary generation.\n",
    "\n",
    "First, the population of bitstrings (candidate solutions) are evaluated using the objective function. The objective function evaluation for each candidate solution is taken as the fitness of the solution, which may be minimized or maximized.\n",
    "\n",
    "Then, parents are selected based on their fitness. A given candidate solution may be used as parent zero or more times. A simple and effective approach to selection involves drawing k candidates from the population randomly and selecting the member from the group with the best fitness. This is called tournament selection where k is a hyperparameter and set to a value such as 3. This simple approach simulates a more costly fitness-proportionate selection scheme.\n",
    "\n",
    "> In tournament selection, each parent is the fittest out of k randomly chosen chromosomes of the population\n",
    "> — Page 151, Algorithms for Optimization, 2019.\n",
    "\n",
    "Parents are used as the basis for generating the next generation of candidate points and one parent for each position in the population is required.\n",
    "\n",
    "Parents are then taken in pairs and used to create two children. Recombination is performed using a crossover operator. This involves selecting a random split point on the bit string, then creating a child with the bits up to the split point from the first parent and from the split point to the end of the string from the second parent. This process is then inverted for the second child.\n",
    "\n",
    "For example the two parents:\n",
    "\n",
    "parent1 = 00000\n",
    "parent2 = 11111\n",
    "May result in two cross-over children:\n",
    "\n",
    "child1 = 00011\n",
    "child2 = 11100\n",
    "This is called one point crossover, and there are many other variations of the operator.\n",
    "\n",
    "Crossover is applied probabilistically for each pair of parents, meaning that in some cases, copies of the parents are taken as the children instead of the recombination operator. Crossover is controlled by a hyperparameter set to a large value, such as 80 percent or 90 percent.\n",
    "\n",
    "> Crossover is the Genetic Algorithm’s distinguishing feature. It involves mixing and matching parts of two parents to form children. How you do that mixing and matching depends on the > representation of the individuals.\n",
    "> — Page 36, Essentials of Metaheuristics, 2011.\n",
    "\n",
    "Mutation involves flipping bits in created children candidate solutions. Typically, the mutation rate is set to 1/L, where L is the length of the bitstring.\n",
    "\n",
    "> Each bit in a binary-valued chromosome typically has a small probability of being flipped. For a chromosome with m bits, this mutation rate is typically set to 1/m, yielding an > > > > average of one mutation per child chromosome.\n",
    "> — Page 155, Algorithms for Optimization, 2019.\n",
    "\n",
    "For example, if a problem used a bitstring with 20 bits, then a good default mutation rate would be (1/20) = 0.05 or a probability of 5 percent.\n",
    "\n",
    "This defines the simple genetic algorithm procedure. It is a large field of study, and there are many extensions to the algorithm.\n",
    "\n",
    "Now that we are familiar with the simple genetic algorithm procedure, let’s look at how we might implement it from scratch."
   ]
  },
  {
   "attachments": {},
   "cell_type": "markdown",
   "metadata": {},
   "source": [
    "## Genetic Algorithm From Scratch\n",
    "In this section, we will develop an implementation of the genetic algorithm.\n",
    "\n",
    "The first step is to create a population of random bitstrings. We could use boolean values True and False, string values ‘0’ and ‘1’, or integer values 0 and 1. In this case, we will use integer values.\n",
    "\n",
    "We can generate an array of integer values in a range using the randint() function, and we can specify the range as values starting at 0 and less than 2, e.g. 0 or 1. We will also represent a candidate solution as a list instead of a NumPy array to keep things simple.\n",
    "\n"
   ]
  },
  {
   "cell_type": "code",
   "execution_count": 5,
   "metadata": {},
   "outputs": [],
   "source": [
    "import numpy as np\n",
    "import random"
   ]
  },
  {
   "attachments": {},
   "cell_type": "markdown",
   "metadata": {},
   "source": [
    "An initial population of random bitstring can be created as follows, where “n_pop” is a hyperparameter that controls the population size and “n_bits” is a hyperparameter that defines.\n",
    "the number of bits in a single candidate solution:"
   ]
  },
  {
   "cell_type": "code",
   "execution_count": 6,
   "metadata": {},
   "outputs": [],
   "source": [
    "n_pop= 6\n",
    "n_bits= 10\n",
    "\n",
    "# initial population of random bitstring\n",
    "pop = [np.random.randint(0, 2, n_bits).tolist() for _ in range(n_pop)]"
   ]
  },
  {
   "cell_type": "code",
   "execution_count": 7,
   "metadata": {},
   "outputs": [],
   "source": [
    "def selection(pop, scores, k=3):\n",
    "    # first random selection\n",
    "        selection_ix = np.random.randint(len(pop))\n",
    "        for ix in np.random.randint(0, len(pop), k-1):\n",
    "            # check if better (e.g. perform a tournament)\n",
    "            if scores[ix] < scores[selection_ix]:\n",
    "                selection_ix = ix\n",
    "            return pop[selection_ix]"
   ]
  },
  {
   "cell_type": "code",
   "execution_count": 8,
   "metadata": {},
   "outputs": [],
   "source": [
    "# crossover two parents to create two children\n",
    "def crossover(p1, p2, r_cross):\n",
    "    # children are copies of parents by default\n",
    "    c1, c2 = p1.copy(), p2.copy()\n",
    "    # check for recombination\n",
    "    if np.random.rand() < r_cross:\n",
    "        # select crossover point that is not on the end of the string\n",
    "        pt = np.random.randint(1, len(p1)-2)\n",
    "        # perform crossover\n",
    "        c1 = p1[:pt] + p2[pt:]\n",
    "        c2 = p2[:pt] + p1[pt:]\n",
    "    return [c1, c2]"
   ]
  },
  {
   "cell_type": "code",
   "execution_count": 9,
   "metadata": {},
   "outputs": [],
   "source": [
    "\n",
    "# mutation operator\n",
    "def mutation(bitstring, r_mut):\n",
    " for i in range(len(bitstring)):\n",
    "    # check for a mutation\n",
    "    if np.random.rand() < r_mut:\n",
    "        # flip the bit\n",
    "        bitstring[i] = 1 - bitstring[i]"
   ]
  },
  {
   "cell_type": "code",
   "execution_count": null,
   "metadata": {},
   "outputs": [],
   "source": []
  },
  {
   "attachments": {},
   "cell_type": "markdown",
   "metadata": {},
   "source": [
    "Next, we can enumerate over a fixed number of algorithm iterations, in this case, controlled by a hyperparameter named “n_iter“."
   ]
  },
  {
   "cell_type": "code",
   "execution_count": null,
   "metadata": {},
   "outputs": [],
   "source": [
    "# genetic algorithm\n",
    "def genetic_algorithm(objective, n_bits, n_iter, n_pop, r_cross, r_mut):\n",
    "\t# initial population of random bitstring\n",
    "\tpop = [randint(0, 2, n_bits).tolist() for _ in range(n_pop)]\n",
    "\t# keep track of best solution\n",
    "\tbest, best_eval = 0, objective(pop[0])\n",
    "\t# enumerate generations\n",
    "\tfor gen in range(n_iter):\n",
    "\t# evaluate all candidates in the population\n",
    "\tscores = [objective(c) for c in pop]\n",
    "\t# check for new best solution\n",
    "\tfor i in range(n_pop):\n",
    "\tif scores[i] < best_eval:\n",
    "\tbest, best_eval = pop[i], scores[i]\n",
    "\tprint(\">%d, new best f(%s) = %.3f\" % (gen,  pop[i], scores[i]))\n",
    "\t# select parents\n",
    "\tselected = [selection(pop, scores) for _ in range(n_pop)]\n",
    "\t# create the next generation\n",
    "\tchildren = list()\n",
    "\tfor i in range(0, n_pop, 2):\n",
    "\t# get selected parents in pairs\n",
    "\tp1, p2 = selected[i], selected[i+1]\n",
    "\t# crossover and mutation\n",
    "\tfor c in crossover(p1, p2, r_cross):\n",
    "\t# mutation\n",
    "\tmutation(c, r_mut)\n",
    "\t# store for next generation\n",
    "\tchildren.append(c)\n",
    "\t# replace population\n",
    "\tpop = children\n",
    "\treturn [best, best_eval]\n",
    " \n",
    "# define the total iterations\n",
    "n_iter = 100\n",
    "# bits\n",
    "n_bits = 20\n",
    "# define the population size\n",
    "n_pop = 100\n",
    "# crossover rate\n",
    "r_cross = 0.9\n",
    "# mutation rate\n",
    "r_mut = 1.0 / float(n_bits)\n",
    "# perform the genetic algorithm search\n",
    "best, score = genetic_algorithm(onemax, n_bits, n_iter, n_pop, r_cross, r_mut)\n",
    "print('Done!')\n",
    "print('f(%s) = %f' % (best, score))\n",
    "\t\n",
    "        "
   ]
  }
 ],
 "metadata": {
  "kernelspec": {
   "display_name": "Python 3",
   "language": "python",
   "name": "python3"
  },
  "language_info": {
   "codemirror_mode": {
    "name": "ipython",
    "version": 3
   },
   "file_extension": ".py",
   "mimetype": "text/x-python",
   "name": "python",
   "nbconvert_exporter": "python",
   "pygments_lexer": "ipython3",
   "version": "3.10.0"
  },
  "orig_nbformat": 4
 },
 "nbformat": 4,
 "nbformat_minor": 2
}
