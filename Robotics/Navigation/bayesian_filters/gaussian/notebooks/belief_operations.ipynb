{
 "cells": [
  {
   "cell_type": "code",
   "execution_count": 1,
   "metadata": {},
   "outputs": [],
   "source": [
    "import math\n",
    "import numpy as np\n",
    "import matplotlib.pyplot as plt\n",
    "from scipy import stats\n",
    "from ipywidgets import interact, FloatSlider\n",
    "from collections import namedtuple\n",
    "\n",
    "plt.style.use('fivethirtyeight')\n"
   ]
  },
  {
   "cell_type": "code",
   "execution_count": 2,
   "metadata": {},
   "outputs": [],
   "source": [
    "N = 500\n",
    "gaussian = namedtuple('Gaussian', ['mean', 'var'])\n",
    "gaussian.__repr__  = lambda s: f'𝒩(μ={s[0]:.3f}, 𝜎²={s[1]:.3f})'"
   ]
  },
  {
   "cell_type": "code",
   "execution_count": 3,
   "metadata": {},
   "outputs": [
    {
     "data": {
      "application/vnd.jupyter.widget-view+json": {
       "model_id": "452d76a65a9e4ef486f0df59e4f057b3",
       "version_major": 2,
       "version_minor": 0
      },
      "text/plain": [
       "interactive(children=(FloatSlider(value=5.0, description='mu', max=7.0, min=3.0), FloatSlider(value=0.03, desc…"
      ]
     },
     "metadata": {},
     "output_type": "display_data"
    },
    {
     "data": {
      "text/plain": [
       "<function __main__.plt_g(mu, variance)>"
      ]
     },
     "execution_count": 3,
     "metadata": {},
     "output_type": "execute_result"
    }
   ],
   "source": [
    "def plt_g(mu,variance):\n",
    "    gaussian = stats.norm(loc=mu, scale=variance)\n",
    "    plt.figure(figsize=(16,9))\n",
    "    xs = np.arange(2, 8, 0.01)\n",
    "    ys = gaussian.pdf(xs)\n",
    "    plt.plot(xs, ys)\n",
    "    plt.ylim(0, 1)\n",
    "    plt.show()\n",
    "\n",
    "interact(plt_g, mu=FloatSlider(value=5, min=3, max=7),variance=FloatSlider(value = .03, min=.01, max=1.))"
   ]
  },
  {
   "attachments": {},
   "cell_type": "markdown",
   "metadata": {},
   "source": [
    "## ADD BEILEIEFS"
   ]
  },
  {
   "cell_type": "code",
   "execution_count": 4,
   "metadata": {},
   "outputs": [
    {
     "data": {
      "application/vnd.jupyter.widget-view+json": {
       "model_id": "89ddef5f1236468a8bb80966ac422255",
       "version_major": 2,
       "version_minor": 0
      },
      "text/plain": [
       "interactive(children=(FloatSlider(value=5.0, description='mu1', max=7.0, min=3.0), FloatSlider(value=1.0, desc…"
      ]
     },
     "metadata": {},
     "output_type": "display_data"
    },
    {
     "data": {
      "text/plain": [
       "<function __main__.plt_sum(mu1, var1, mu2, var2)>"
      ]
     },
     "execution_count": 4,
     "metadata": {},
     "output_type": "execute_result"
    }
   ],
   "source": [
    "def sum_gaussian(pos, movement):\n",
    "    \n",
    "    return gaussian(pos.mean + movement.mean, pos.var + movement.var)\n",
    "\n",
    "def plt_sum(mu1, var1, mu2, var2):\n",
    "    pos  = gaussian(mu1, var1)\n",
    "    move = gaussian(mu2, var2)\n",
    "    prior= sum_gaussian(pos, move)\n",
    "\n",
    "\n",
    "    dpos   = stats.norm(loc=pos.mean, scale=pos.var)\n",
    "    dmove  = stats.norm(loc=move.mean, scale=move.var)\n",
    "    dprior = stats.norm(loc=prior.mean, scale=prior.var)\n",
    "    x      = np.linspace(0,prior.mean *2, N)\n",
    "    y_pos  = dpos.pdf(x)\n",
    "    y_move = dmove.pdf(x)\n",
    "    y_prior= dprior.pdf(x)\n",
    "\n",
    "\n",
    "    plt.figure(figsize=(16,9))\n",
    "    plt.plot(x, y_pos, linestyle='--', linewidth=1.5, label=f'Pos : {pos}')\n",
    "    plt.plot(x, y_move, linestyle='--',  linewidth=1.5,label=f'Move:{move}')\n",
    "    plt.plot(x, y_prior, linewidth=1.5, label=f'prior: {prior}')\n",
    "    plt.title('Position Distribution')\n",
    "    plt.xlabel('Position')\n",
    "    plt.ylabel('Probability')\n",
    "    plt.ylim([0,4])\n",
    "    plt.xlim([0,20])\n",
    "    plt.show()\n",
    "\n",
    "interact(plt_sum, mu1=FloatSlider(value=5, min=3, max=7),var1=FloatSlider(value = 1, min=.01, max=1.), mu2=FloatSlider(value=5, min=3, max=7),var2=FloatSlider(value = 1, min=.01, max=1.))"
   ]
  },
  {
   "attachments": {},
   "cell_type": "markdown",
   "metadata": {},
   "source": [
    "## MULTIPLY BEILEIEFS "
   ]
  },
  {
   "cell_type": "code",
   "execution_count": 5,
   "metadata": {},
   "outputs": [
    {
     "data": {
      "application/vnd.jupyter.widget-view+json": {
       "model_id": "48b87f5c23334358a957706bb5b963ab",
       "version_major": 2,
       "version_minor": 0
      },
      "text/plain": [
       "interactive(children=(FloatSlider(value=5.0, description='mu1', max=7.0, min=3.0), FloatSlider(value=1.0, desc…"
      ]
     },
     "metadata": {},
     "output_type": "display_data"
    },
    {
     "data": {
      "text/plain": [
       "<function __main__.plt_sum(mu1, var1, mu2, var2)>"
      ]
     },
     "execution_count": 5,
     "metadata": {},
     "output_type": "execute_result"
    }
   ],
   "source": [
    "def mul_gaussuan(g1, g2):\n",
    "    mul_mean  =  (g1.var * g2.mean + g2.var * g1.mean)/(g1.var + g2.var)\n",
    "    mul_var   =  (g1.var * g2.var )/(g1.var + g2.var)\n",
    "    return gaussian(mul_mean , mul_var)\n",
    "\n",
    "def plt_sum(mu1, var1, mu2, var2):\n",
    "    predicted  = gaussian(mu1, var1)\n",
    "    measured   = gaussian(mu2, var2)\n",
    "    estimated  = mul_gaussuan(predicted, measured)\n",
    "\n",
    "\n",
    "    dpredicted   = stats.norm(loc=predicted.mean, scale=predicted.var)\n",
    "    dmeasured  = stats.norm(loc=measured.mean, scale=measured.var)\n",
    "    destimated = stats.norm(loc=estimated.mean, scale=estimated.var)\n",
    "    x      = np.linspace(0,estimated.mean *2, N)\n",
    "    y_pos  = dpos.pdf(x)\n",
    "    y_move = dmove.pdf(x)\n",
    "    y_prior= dprior.pdf(x)\n",
    "\n",
    "\n",
    "    plt.figure(figsize=(16,9))\n",
    "    plt.plot(x, y_pos, linestyle='--', linewidth=1.5, label=f'Pos : {pos}')\n",
    "    plt.plot(x, y_move, linestyle='--',  linewidth=1.5,label=f'Move:{move}')\n",
    "    plt.plot(x, y_prior, linewidth=1.5, label=f'prior: {prior}')\n",
    "    plt.title('Position Distribution')\n",
    "    plt.xlabel('Position')\n",
    "    plt.ylabel('Probability')\n",
    "    plt.ylim([0,4])\n",
    "    plt.xlim([0,10])\n",
    "    plt.show()\n",
    "\n",
    "interact(plt_sum, mu1=FloatSlider(value=5, min=3, max=7),var1=FloatSlider(value = 1, min=.01, max=1.), mu2=FloatSlider(value=5, min=3, max=7),var2=FloatSlider(value = 1, min=.01, max=1.))"
   ]
  }
 ],
 "metadata": {
  "kernelspec": {
   "display_name": "Python 3",
   "language": "python",
   "name": "python3"
  },
  "language_info": {
   "codemirror_mode": {
    "name": "ipython",
    "version": 3
   },
   "file_extension": ".py",
   "mimetype": "text/x-python",
   "name": "python",
   "nbconvert_exporter": "python",
   "pygments_lexer": "ipython3",
   "version": "3.10.0"
  },
  "orig_nbformat": 4,
  "vscode": {
   "interpreter": {
    "hash": "b0aeeb24f5ff6ac7b92de8b7678fda2f38a13466b5fd554c935ef84cf232685d"
   }
  }
 },
 "nbformat": 4,
 "nbformat_minor": 2
}
